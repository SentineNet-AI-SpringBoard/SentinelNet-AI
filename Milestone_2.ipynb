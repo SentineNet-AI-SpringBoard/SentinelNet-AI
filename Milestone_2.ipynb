{
  "nbformat": 4,
  "nbformat_minor": 0,
  "metadata": {
    "colab": {
      "provenance": []
    },
    "kernelspec": {
      "name": "python3",
      "display_name": "Python 3"
    },
    "language_info": {
      "name": "python"
    }
  },
  "cells": [
    {
      "cell_type": "markdown",
      "source": [
        "  **PROJECT :** SentinelNet-AI-Powered Network Intrusion\n",
        "Detection System (NIDS)\n"
      ],
      "metadata": {
        "id": "ujjAQbEyYPlx"
      }
    },
    {
      "cell_type": "markdown",
      "source": [
        "**Project Statement:** The project aims to build an AI-powered Network Intrusion Detection System (NIDS) that can automatically detect and classify network traffic as normal or malicious.\n",
        "Using machine learning, the system will analyze network data, extract key features, train models, and raise alerts whenever suspicious activity or a possible cyber-attack is detected."
      ],
      "metadata": {
        "id": "L1nI5q5mYsIx"
      }
    },
    {
      "cell_type": "markdown",
      "source": [
        "**Dataset :** CICIDS2017 Dataset: https://www.unb.ca/cic/datasets/ids-2017.html"
      ],
      "metadata": {
        "id": "7wPhvlIVZvrD"
      }
    },
    {
      "cell_type": "markdown",
      "source": [
        "**Using Encoded Dataset :** /content/drive/MyDrive/AI Sentinet Project/Encoded_wednesday.csv"
      ],
      "metadata": {
        "id": "fRM-avh_VrUs"
      }
    },
    {
      "cell_type": "code",
      "source": [
        "from google.colab import drive\n",
        "drive.mount('/content/drive')"
      ],
      "metadata": {
        "colab": {
          "base_uri": "https://localhost:8080/"
        },
        "id": "GWjI5Op8aoA1",
        "outputId": "4fa1203c-f0a8-4b0a-93ee-67229ffd1a87"
      },
      "execution_count": null,
      "outputs": [
        {
          "output_type": "stream",
          "name": "stdout",
          "text": [
            "Mounted at /content/drive\n"
          ]
        }
      ]
    },
    {
      "cell_type": "markdown",
      "source": [
        "**Milestone 2**"
      ],
      "metadata": {
        "id": "aaP15np_GYcq"
      }
    },
    {
      "cell_type": "markdown",
      "source": [
        "**Week 3 :** Feature Engineering + PCA + Feature Importance"
      ],
      "metadata": {
        "id": "BetKGbwEh75Y"
      }
    },
    {
      "cell_type": "markdown",
      "source": [
        "**Loading Required Libraries**"
      ],
      "metadata": {
        "id": "Mo2IZzDUiCvc"
      }
    },
    {
      "cell_type": "code",
      "source": [
        "import pandas as pd\n",
        "import numpy as np\n",
        "from sklearn.model_selection import train_test_split\n",
        "from sklearn.preprocessing import StandardScaler\n",
        "from sklearn.ensemble import RandomForestClassifier\n",
        "from sklearn.decomposition import PCA\n",
        "import matplotlib.pyplot as plt\n",
        "import seaborn as sns\n"
      ],
      "metadata": {
        "id": "MqzpjwuPduD9"
      },
      "execution_count": null,
      "outputs": []
    },
    {
      "cell_type": "markdown",
      "source": [
        "**Load the Dataset**"
      ],
      "metadata": {
        "id": "vL5xa-G3iOu4"
      }
    },
    {
      "cell_type": "code",
      "metadata": {
        "colab": {
          "base_uri": "https://localhost:8080/",
          "height": 324
        },
        "id": "759673dc",
        "outputId": "cec37ea0-2cdd-4165-bf2d-1edd6ff7e73a"
      },
      "source": [
        "# Load data\n",
        "import pandas as pd\n",
        "\n",
        "# Load the encoded dataset\n",
        "encoded_path = '/content/drive/MyDrive/AI Sentinet Project/Encoded_wednesday.csv'\n",
        "df = pd.read_csv(encoded_path)\n",
        "\n",
        "print(\"Shape of Encoded Dataset:\", df.shape)\n",
        "df.head()\n"
      ],
      "execution_count": null,
      "outputs": [
        {
          "output_type": "stream",
          "name": "stdout",
          "text": [
            "Shape of Encoded Dataset: (691406, 81)\n"
          ]
        },
        {
          "output_type": "execute_result",
          "data": {
            "text/plain": [
              "    Source Port   Destination Port   Protocol   Flow Duration  \\\n",
              "0         49459                 80          6           38308   \n",
              "1         49453                389          6             479   \n",
              "2         46124                 88          6            1095   \n",
              "3         49454                389          6           15206   \n",
              "4         46126                 88          6            1092   \n",
              "\n",
              "    Total Fwd Packets   Total Backward Packets  Total Length of Fwd Packets  \\\n",
              "0                   1                        1                            6   \n",
              "1                  11                        5                          172   \n",
              "2                  10                        6                         3150   \n",
              "3                  17                       12                         3452   \n",
              "4                   9                        6                         3150   \n",
              "\n",
              "    Total Length of Bwd Packets   Fwd Packet Length Max  \\\n",
              "0                           6.0                       6   \n",
              "1                         326.0                      79   \n",
              "2                        3150.0                    1575   \n",
              "3                        6660.0                    1313   \n",
              "4                        3152.0                    1575   \n",
              "\n",
              "    Fwd Packet Length Min  ...   min_seg_size_forward  Active Mean  \\\n",
              "0                       6  ...                     20          0.0   \n",
              "1                       0  ...                     32          0.0   \n",
              "2                       0  ...                     32          0.0   \n",
              "3                       0  ...                     32          0.0   \n",
              "4                       0  ...                     32          0.0   \n",
              "\n",
              "    Active Std   Active Max   Active Min  Idle Mean   Idle Std   Idle Max  \\\n",
              "0          0.0          0.0          0.0        0.0        0.0        0.0   \n",
              "1          0.0          0.0          0.0        0.0        0.0        0.0   \n",
              "2          0.0          0.0          0.0        0.0        0.0        0.0   \n",
              "3          0.0          0.0          0.0        0.0        0.0        0.0   \n",
              "4          0.0          0.0          0.0        0.0        0.0        0.0   \n",
              "\n",
              "    Idle Min   Label  \n",
              "0        0.0       0  \n",
              "1        0.0       0  \n",
              "2        0.0       0  \n",
              "3        0.0       0  \n",
              "4        0.0       0  \n",
              "\n",
              "[5 rows x 81 columns]"
            ],
            "text/html": [
              "\n",
              "  <div id=\"df-36f874d5-40b8-43bf-9602-e8c6686041f8\" class=\"colab-df-container\">\n",
              "    <div>\n",
              "<style scoped>\n",
              "    .dataframe tbody tr th:only-of-type {\n",
              "        vertical-align: middle;\n",
              "    }\n",
              "\n",
              "    .dataframe tbody tr th {\n",
              "        vertical-align: top;\n",
              "    }\n",
              "\n",
              "    .dataframe thead th {\n",
              "        text-align: right;\n",
              "    }\n",
              "</style>\n",
              "<table border=\"1\" class=\"dataframe\">\n",
              "  <thead>\n",
              "    <tr style=\"text-align: right;\">\n",
              "      <th></th>\n",
              "      <th>Source Port</th>\n",
              "      <th>Destination Port</th>\n",
              "      <th>Protocol</th>\n",
              "      <th>Flow Duration</th>\n",
              "      <th>Total Fwd Packets</th>\n",
              "      <th>Total Backward Packets</th>\n",
              "      <th>Total Length of Fwd Packets</th>\n",
              "      <th>Total Length of Bwd Packets</th>\n",
              "      <th>Fwd Packet Length Max</th>\n",
              "      <th>Fwd Packet Length Min</th>\n",
              "      <th>...</th>\n",
              "      <th>min_seg_size_forward</th>\n",
              "      <th>Active Mean</th>\n",
              "      <th>Active Std</th>\n",
              "      <th>Active Max</th>\n",
              "      <th>Active Min</th>\n",
              "      <th>Idle Mean</th>\n",
              "      <th>Idle Std</th>\n",
              "      <th>Idle Max</th>\n",
              "      <th>Idle Min</th>\n",
              "      <th>Label</th>\n",
              "    </tr>\n",
              "  </thead>\n",
              "  <tbody>\n",
              "    <tr>\n",
              "      <th>0</th>\n",
              "      <td>49459</td>\n",
              "      <td>80</td>\n",
              "      <td>6</td>\n",
              "      <td>38308</td>\n",
              "      <td>1</td>\n",
              "      <td>1</td>\n",
              "      <td>6</td>\n",
              "      <td>6.0</td>\n",
              "      <td>6</td>\n",
              "      <td>6</td>\n",
              "      <td>...</td>\n",
              "      <td>20</td>\n",
              "      <td>0.0</td>\n",
              "      <td>0.0</td>\n",
              "      <td>0.0</td>\n",
              "      <td>0.0</td>\n",
              "      <td>0.0</td>\n",
              "      <td>0.0</td>\n",
              "      <td>0.0</td>\n",
              "      <td>0.0</td>\n",
              "      <td>0</td>\n",
              "    </tr>\n",
              "    <tr>\n",
              "      <th>1</th>\n",
              "      <td>49453</td>\n",
              "      <td>389</td>\n",
              "      <td>6</td>\n",
              "      <td>479</td>\n",
              "      <td>11</td>\n",
              "      <td>5</td>\n",
              "      <td>172</td>\n",
              "      <td>326.0</td>\n",
              "      <td>79</td>\n",
              "      <td>0</td>\n",
              "      <td>...</td>\n",
              "      <td>32</td>\n",
              "      <td>0.0</td>\n",
              "      <td>0.0</td>\n",
              "      <td>0.0</td>\n",
              "      <td>0.0</td>\n",
              "      <td>0.0</td>\n",
              "      <td>0.0</td>\n",
              "      <td>0.0</td>\n",
              "      <td>0.0</td>\n",
              "      <td>0</td>\n",
              "    </tr>\n",
              "    <tr>\n",
              "      <th>2</th>\n",
              "      <td>46124</td>\n",
              "      <td>88</td>\n",
              "      <td>6</td>\n",
              "      <td>1095</td>\n",
              "      <td>10</td>\n",
              "      <td>6</td>\n",
              "      <td>3150</td>\n",
              "      <td>3150.0</td>\n",
              "      <td>1575</td>\n",
              "      <td>0</td>\n",
              "      <td>...</td>\n",
              "      <td>32</td>\n",
              "      <td>0.0</td>\n",
              "      <td>0.0</td>\n",
              "      <td>0.0</td>\n",
              "      <td>0.0</td>\n",
              "      <td>0.0</td>\n",
              "      <td>0.0</td>\n",
              "      <td>0.0</td>\n",
              "      <td>0.0</td>\n",
              "      <td>0</td>\n",
              "    </tr>\n",
              "    <tr>\n",
              "      <th>3</th>\n",
              "      <td>49454</td>\n",
              "      <td>389</td>\n",
              "      <td>6</td>\n",
              "      <td>15206</td>\n",
              "      <td>17</td>\n",
              "      <td>12</td>\n",
              "      <td>3452</td>\n",
              "      <td>6660.0</td>\n",
              "      <td>1313</td>\n",
              "      <td>0</td>\n",
              "      <td>...</td>\n",
              "      <td>32</td>\n",
              "      <td>0.0</td>\n",
              "      <td>0.0</td>\n",
              "      <td>0.0</td>\n",
              "      <td>0.0</td>\n",
              "      <td>0.0</td>\n",
              "      <td>0.0</td>\n",
              "      <td>0.0</td>\n",
              "      <td>0.0</td>\n",
              "      <td>0</td>\n",
              "    </tr>\n",
              "    <tr>\n",
              "      <th>4</th>\n",
              "      <td>46126</td>\n",
              "      <td>88</td>\n",
              "      <td>6</td>\n",
              "      <td>1092</td>\n",
              "      <td>9</td>\n",
              "      <td>6</td>\n",
              "      <td>3150</td>\n",
              "      <td>3152.0</td>\n",
              "      <td>1575</td>\n",
              "      <td>0</td>\n",
              "      <td>...</td>\n",
              "      <td>32</td>\n",
              "      <td>0.0</td>\n",
              "      <td>0.0</td>\n",
              "      <td>0.0</td>\n",
              "      <td>0.0</td>\n",
              "      <td>0.0</td>\n",
              "      <td>0.0</td>\n",
              "      <td>0.0</td>\n",
              "      <td>0.0</td>\n",
              "      <td>0</td>\n",
              "    </tr>\n",
              "  </tbody>\n",
              "</table>\n",
              "<p>5 rows × 81 columns</p>\n",
              "</div>\n",
              "    <div class=\"colab-df-buttons\">\n",
              "\n",
              "  <div class=\"colab-df-container\">\n",
              "    <button class=\"colab-df-convert\" onclick=\"convertToInteractive('df-36f874d5-40b8-43bf-9602-e8c6686041f8')\"\n",
              "            title=\"Convert this dataframe to an interactive table.\"\n",
              "            style=\"display:none;\">\n",
              "\n",
              "  <svg xmlns=\"http://www.w3.org/2000/svg\" height=\"24px\" viewBox=\"0 -960 960 960\">\n",
              "    <path d=\"M120-120v-720h720v720H120Zm60-500h600v-160H180v160Zm220 220h160v-160H400v160Zm0 220h160v-160H400v160ZM180-400h160v-160H180v160Zm440 0h160v-160H620v160ZM180-180h160v-160H180v160Zm440 0h160v-160H620v160Z\"/>\n",
              "  </svg>\n",
              "    </button>\n",
              "\n",
              "  <style>\n",
              "    .colab-df-container {\n",
              "      display:flex;\n",
              "      gap: 12px;\n",
              "    }\n",
              "\n",
              "    .colab-df-convert {\n",
              "      background-color: #E8F0FE;\n",
              "      border: none;\n",
              "      border-radius: 50%;\n",
              "      cursor: pointer;\n",
              "      display: none;\n",
              "      fill: #1967D2;\n",
              "      height: 32px;\n",
              "      padding: 0 0 0 0;\n",
              "      width: 32px;\n",
              "    }\n",
              "\n",
              "    .colab-df-convert:hover {\n",
              "      background-color: #E2EBFA;\n",
              "      box-shadow: 0px 1px 2px rgba(60, 64, 67, 0.3), 0px 1px 3px 1px rgba(60, 64, 67, 0.15);\n",
              "      fill: #174EA6;\n",
              "    }\n",
              "\n",
              "    .colab-df-buttons div {\n",
              "      margin-bottom: 4px;\n",
              "    }\n",
              "\n",
              "    [theme=dark] .colab-df-convert {\n",
              "      background-color: #3B4455;\n",
              "      fill: #D2E3FC;\n",
              "    }\n",
              "\n",
              "    [theme=dark] .colab-df-convert:hover {\n",
              "      background-color: #434B5C;\n",
              "      box-shadow: 0px 1px 3px 1px rgba(0, 0, 0, 0.15);\n",
              "      filter: drop-shadow(0px 1px 2px rgba(0, 0, 0, 0.3));\n",
              "      fill: #FFFFFF;\n",
              "    }\n",
              "  </style>\n",
              "\n",
              "    <script>\n",
              "      const buttonEl =\n",
              "        document.querySelector('#df-36f874d5-40b8-43bf-9602-e8c6686041f8 button.colab-df-convert');\n",
              "      buttonEl.style.display =\n",
              "        google.colab.kernel.accessAllowed ? 'block' : 'none';\n",
              "\n",
              "      async function convertToInteractive(key) {\n",
              "        const element = document.querySelector('#df-36f874d5-40b8-43bf-9602-e8c6686041f8');\n",
              "        const dataTable =\n",
              "          await google.colab.kernel.invokeFunction('convertToInteractive',\n",
              "                                                    [key], {});\n",
              "        if (!dataTable) return;\n",
              "\n",
              "        const docLinkHtml = 'Like what you see? Visit the ' +\n",
              "          '<a target=\"_blank\" href=https://colab.research.google.com/notebooks/data_table.ipynb>data table notebook</a>'\n",
              "          + ' to learn more about interactive tables.';\n",
              "        element.innerHTML = '';\n",
              "        dataTable['output_type'] = 'display_data';\n",
              "        await google.colab.output.renderOutput(dataTable, element);\n",
              "        const docLink = document.createElement('div');\n",
              "        docLink.innerHTML = docLinkHtml;\n",
              "        element.appendChild(docLink);\n",
              "      }\n",
              "    </script>\n",
              "  </div>\n",
              "\n",
              "\n",
              "    <div id=\"df-6d8e1875-36ae-4655-a413-2ceac5cfa0d3\">\n",
              "      <button class=\"colab-df-quickchart\" onclick=\"quickchart('df-6d8e1875-36ae-4655-a413-2ceac5cfa0d3')\"\n",
              "                title=\"Suggest charts\"\n",
              "                style=\"display:none;\">\n",
              "\n",
              "<svg xmlns=\"http://www.w3.org/2000/svg\" height=\"24px\"viewBox=\"0 0 24 24\"\n",
              "     width=\"24px\">\n",
              "    <g>\n",
              "        <path d=\"M19 3H5c-1.1 0-2 .9-2 2v14c0 1.1.9 2 2 2h14c1.1 0 2-.9 2-2V5c0-1.1-.9-2-2-2zM9 17H7v-7h2v7zm4 0h-2V7h2v10zm4 0h-2v-4h2v4z\"/>\n",
              "    </g>\n",
              "</svg>\n",
              "      </button>\n",
              "\n",
              "<style>\n",
              "  .colab-df-quickchart {\n",
              "      --bg-color: #E8F0FE;\n",
              "      --fill-color: #1967D2;\n",
              "      --hover-bg-color: #E2EBFA;\n",
              "      --hover-fill-color: #174EA6;\n",
              "      --disabled-fill-color: #AAA;\n",
              "      --disabled-bg-color: #DDD;\n",
              "  }\n",
              "\n",
              "  [theme=dark] .colab-df-quickchart {\n",
              "      --bg-color: #3B4455;\n",
              "      --fill-color: #D2E3FC;\n",
              "      --hover-bg-color: #434B5C;\n",
              "      --hover-fill-color: #FFFFFF;\n",
              "      --disabled-bg-color: #3B4455;\n",
              "      --disabled-fill-color: #666;\n",
              "  }\n",
              "\n",
              "  .colab-df-quickchart {\n",
              "    background-color: var(--bg-color);\n",
              "    border: none;\n",
              "    border-radius: 50%;\n",
              "    cursor: pointer;\n",
              "    display: none;\n",
              "    fill: var(--fill-color);\n",
              "    height: 32px;\n",
              "    padding: 0;\n",
              "    width: 32px;\n",
              "  }\n",
              "\n",
              "  .colab-df-quickchart:hover {\n",
              "    background-color: var(--hover-bg-color);\n",
              "    box-shadow: 0 1px 2px rgba(60, 64, 67, 0.3), 0 1px 3px 1px rgba(60, 64, 67, 0.15);\n",
              "    fill: var(--button-hover-fill-color);\n",
              "  }\n",
              "\n",
              "  .colab-df-quickchart-complete:disabled,\n",
              "  .colab-df-quickchart-complete:disabled:hover {\n",
              "    background-color: var(--disabled-bg-color);\n",
              "    fill: var(--disabled-fill-color);\n",
              "    box-shadow: none;\n",
              "  }\n",
              "\n",
              "  .colab-df-spinner {\n",
              "    border: 2px solid var(--fill-color);\n",
              "    border-color: transparent;\n",
              "    border-bottom-color: var(--fill-color);\n",
              "    animation:\n",
              "      spin 1s steps(1) infinite;\n",
              "  }\n",
              "\n",
              "  @keyframes spin {\n",
              "    0% {\n",
              "      border-color: transparent;\n",
              "      border-bottom-color: var(--fill-color);\n",
              "      border-left-color: var(--fill-color);\n",
              "    }\n",
              "    20% {\n",
              "      border-color: transparent;\n",
              "      border-left-color: var(--fill-color);\n",
              "      border-top-color: var(--fill-color);\n",
              "    }\n",
              "    30% {\n",
              "      border-color: transparent;\n",
              "      border-left-color: var(--fill-color);\n",
              "      border-top-color: var(--fill-color);\n",
              "      border-right-color: var(--fill-color);\n",
              "    }\n",
              "    40% {\n",
              "      border-color: transparent;\n",
              "      border-right-color: var(--fill-color);\n",
              "      border-top-color: var(--fill-color);\n",
              "    }\n",
              "    60% {\n",
              "      border-color: transparent;\n",
              "      border-right-color: var(--fill-color);\n",
              "    }\n",
              "    80% {\n",
              "      border-color: transparent;\n",
              "      border-right-color: var(--fill-color);\n",
              "      border-bottom-color: var(--fill-color);\n",
              "    }\n",
              "    90% {\n",
              "      border-color: transparent;\n",
              "      border-bottom-color: var(--fill-color);\n",
              "    }\n",
              "  }\n",
              "</style>\n",
              "\n",
              "      <script>\n",
              "        async function quickchart(key) {\n",
              "          const quickchartButtonEl =\n",
              "            document.querySelector('#' + key + ' button');\n",
              "          quickchartButtonEl.disabled = true;  // To prevent multiple clicks.\n",
              "          quickchartButtonEl.classList.add('colab-df-spinner');\n",
              "          try {\n",
              "            const charts = await google.colab.kernel.invokeFunction(\n",
              "                'suggestCharts', [key], {});\n",
              "          } catch (error) {\n",
              "            console.error('Error during call to suggestCharts:', error);\n",
              "          }\n",
              "          quickchartButtonEl.classList.remove('colab-df-spinner');\n",
              "          quickchartButtonEl.classList.add('colab-df-quickchart-complete');\n",
              "        }\n",
              "        (() => {\n",
              "          let quickchartButtonEl =\n",
              "            document.querySelector('#df-6d8e1875-36ae-4655-a413-2ceac5cfa0d3 button');\n",
              "          quickchartButtonEl.style.display =\n",
              "            google.colab.kernel.accessAllowed ? 'block' : 'none';\n",
              "        })();\n",
              "      </script>\n",
              "    </div>\n",
              "\n",
              "    </div>\n",
              "  </div>\n"
            ],
            "application/vnd.google.colaboratory.intrinsic+json": {
              "type": "dataframe",
              "variable_name": "df"
            }
          },
          "metadata": {},
          "execution_count": 5
        }
      ]
    },
    {
      "cell_type": "markdown",
      "source": [
        "**Handle Remaining Cleaning (if needed)**"
      ],
      "metadata": {
        "id": "K02bTVBuiSDY"
      }
    },
    {
      "cell_type": "code",
      "metadata": {
        "id": "8de40ffe"
      },
      "source": [
        "# Drop duplicates\n",
        "df.drop_duplicates(inplace=True)\n",
        "# df.dropna(inplace=True) # This was already done in the previous cell"
      ],
      "execution_count": null,
      "outputs": []
    },
    {
      "cell_type": "markdown",
      "source": [
        "**Identify Target and Features**"
      ],
      "metadata": {
        "id": "FpsfasyvioCc"
      }
    },
    {
      "cell_type": "markdown",
      "source": [
        "We separate:\n",
        "\n",
        "\n",
        "*   **X (features)** : input columns\n",
        "*   **y (target)** : output/label column (e.g., attack or normal)\n",
        "\n",
        "*   This helps in supervised learning since models need clear input and output data.\n",
        "\n",
        "\n",
        "\n",
        "\n"
      ],
      "metadata": {
        "id": "pwbS1xO9jXX1"
      }
    },
    {
      "cell_type": "code",
      "metadata": {
        "id": "10daee2b",
        "colab": {
          "base_uri": "https://localhost:8080/"
        },
        "outputId": "2f052746-9514-4972-d4a2-7868d60096a7"
      },
      "source": [
        "# Split features and label (dropping non-numeric columns)\n",
        "# Drop non-numeric columns before splitting\n",
        "# Replace 'Label' with your actual target column name (e.g., 'Attack' or 'Label')\n",
        "X = df.drop(' Label', axis=1)\n",
        "y = df[' Label']\n",
        "\n",
        "print(\"Features shape:\", X.shape)\n",
        "print(\"Target shape:\", y.shape)\n"
      ],
      "execution_count": null,
      "outputs": [
        {
          "output_type": "stream",
          "name": "stdout",
          "text": [
            "Features shape: (691406, 80)\n",
            "Target shape: (691406,)\n"
          ]
        }
      ]
    },
    {
      "cell_type": "markdown",
      "source": [
        "**Split the Dataset :**"
      ],
      "metadata": {
        "id": "g0ru-QKSiqd9"
      }
    },
    {
      "cell_type": "markdown",
      "source": [
        "*   We split the data into training (80%) and testing (20%) sets.\n",
        "*   This allows us to train the model on one part and test its accuracy on unseen data."
      ],
      "metadata": {
        "id": "XYr2V2ejj2uE"
      }
    },
    {
      "cell_type": "code",
      "metadata": {
        "id": "014088b8"
      },
      "source": [
        "# Split into training and testing sets\n",
        "from sklearn.model_selection import train_test_split\n",
        "X_train, X_test, y_train, y_test = train_test_split(X, y, test_size=0.2, random_state=42)"
      ],
      "execution_count": null,
      "outputs": []
    },
    {
      "cell_type": "markdown",
      "source": [
        "**Feature Scaling :**"
      ],
      "metadata": {
        "id": "654FWdqmi0G0"
      }
    },
    {
      "cell_type": "markdown",
      "source": [
        "\n",
        "\n",
        "*   We use StandardScaler to standardize features (mean=0, std=1).\n",
        "*   Scaling keeps all features on the same scale, which improves model performance and helps PCA work correctly.\n",
        "\n"
      ],
      "metadata": {
        "id": "rT9TvBHrkEQ2"
      }
    },
    {
      "cell_type": "code",
      "metadata": {
        "colab": {
          "base_uri": "https://localhost:8080/"
        },
        "id": "433a0e7c",
        "outputId": "91b8f6bb-3f40-4e7a-9ec0-48a20c45f6d4"
      },
      "source": [
        "# Feature Scaling\n",
        "from sklearn.preprocessing import StandardScaler\n",
        "\n",
        "scaler = StandardScaler()\n",
        "\n",
        "# Select only numeric columns before scaling\n",
        "X_train_numeric = X_train.select_dtypes(include=np.number)\n",
        "X_test_numeric = X_test.select_dtypes(include=np.number)\n",
        "\n",
        "X_train_scaled = scaler.fit_transform(X_train_numeric)\n",
        "X_test_scaled = scaler.transform(X_test_numeric)\n",
        "\n",
        "print(\"Scaling complete.\")"
      ],
      "execution_count": null,
      "outputs": [
        {
          "output_type": "stream",
          "name": "stdout",
          "text": [
            "Scaling complete.\n"
          ]
        }
      ]
    },
    {
      "cell_type": "code",
      "source": [
        "top_10_features = X.columns[indices[:10]]\n",
        "print(\"Top 10 Most Important Features:\")\n",
        "for i, feature in enumerate(top_10_features, 1):\n",
        "    print(f\"{i}. {feature}\")"
      ],
      "metadata": {
        "colab": {
          "base_uri": "https://localhost:8080/"
        },
        "id": "L7CbkUsLCzkj",
        "outputId": "a31710c0-8632-471f-dddd-1b8d02282bda"
      },
      "execution_count": null,
      "outputs": [
        {
          "output_type": "stream",
          "name": "stdout",
          "text": [
            "Top 10 Most Important Features:\n",
            "1.  Avg Bwd Segment Size\n",
            "2. Bwd Packet Length Max\n",
            "3.  Max Packet Length\n",
            "4.  Packet Length Std\n",
            "5.  Packet Length Mean\n",
            "6.  Bwd Packet Length Mean\n",
            "7.  Packet Length Variance\n",
            "8.  Average Packet Size\n",
            "9. Init_Win_bytes_forward\n",
            "10. Flow Bytes/s\n"
          ]
        }
      ]
    },
    {
      "cell_type": "markdown",
      "source": [
        "**Feature Importance (Random Forest)**"
      ],
      "metadata": {
        "id": "3Dws66NTi2vt"
      }
    },
    {
      "cell_type": "markdown",
      "source": [
        "\n",
        "\n",
        "*   We train a Random Forest model with n_estimators=50\n",
        "*   It measures how much each feature contributes to prediction.\n",
        "\n",
        "*   We then extract and visualize the Top 10 most important features that cause the attack.\n",
        "\n",
        "\n",
        "\n"
      ],
      "metadata": {
        "id": "Ud55oGjrkRGH"
      }
    },
    {
      "cell_type": "code",
      "source": [
        "rf = RandomForestClassifier(n_estimators=50, random_state=42)\n",
        "rf.fit(X_train_scaled, y_train)\n",
        "\n",
        "importances = rf.feature_importances_\n",
        "features = X.columns\n",
        "\n",
        "feature_importance_df = pd.DataFrame({\n",
        "    'Feature': features,\n",
        "    'Importance': importances\n",
        "}).sort_values(by='Importance', ascending=False)\n",
        "\n",
        "top_10 = feature_importance_df.head(10)\n",
        "print(top_10)\n"
      ],
      "metadata": {
        "colab": {
          "base_uri": "https://localhost:8080/"
        },
        "id": "b_G7puF3gzVn",
        "outputId": "e15e23ef-ecf5-4ca9-db3e-75e936e32236"
      },
      "execution_count": null,
      "outputs": [
        {
          "output_type": "stream",
          "name": "stdout",
          "text": [
            "                    Feature  Importance\n",
            "56     Avg Bwd Segment Size    0.066569\n",
            "12    Bwd Packet Length Max    0.062604\n",
            "41        Max Packet Length    0.059616\n",
            "14   Bwd Packet Length Mean    0.050466\n",
            "44   Packet Length Variance    0.048030\n",
            "43        Packet Length Std    0.045624\n",
            "42       Packet Length Mean    0.045617\n",
            "54      Average Packet Size    0.043708\n",
            "15    Bwd Packet Length Std    0.035645\n",
            "10   Fwd Packet Length Mean    0.032928\n"
          ]
        }
      ]
    },
    {
      "cell_type": "code",
      "source": [
        "import matplotlib.pyplot as plt\n",
        "import seaborn as sns\n",
        "\n",
        "plt.figure(figsize=(10,5))\n",
        "sns.barplot(x='Importance', y='Feature', data=top_10)\n",
        "plt.title('Top 10 Important Features')\n",
        "plt.show()"
      ],
      "metadata": {
        "colab": {
          "base_uri": "https://localhost:8080/",
          "height": 319
        },
        "id": "qAf65noShYZv",
        "outputId": "1e4785b4-8921-4824-d8b6-7db0b54bd4b6"
      },
      "execution_count": null,
      "outputs": [
        {
          "output_type": "display_data",
          "data": {
            "text/plain": [
              "<Figure size 1000x500 with 1 Axes>"
            ],
            "image/png": "[encoded data removed]"
          },
          "metadata": {}
        }
      ]
    },
    {
      "cell_type": "markdown",
      "source": [
        "**Apply PCA (Feature Reduction)**"
      ],
      "metadata": {
        "id": "-13JTmn1i8IB"
      }
    },
    {
      "cell_type": "markdown",
      "source": [
        "\n",
        "\n",
        "*   We apply PCA to reduce feature dimensions into 2 main components.\n",
        "*   This helps visualize high-dimensional data and check whether attack and normal data form distinct clusters.\n",
        "\n"
      ],
      "metadata": {
        "id": "p5PeeQG4kfQ3"
      }
    },
    {
      "cell_type": "code",
      "source": [
        "pca = PCA(n_components=2)\n",
        "X_pca = pca.fit_transform(X_train_scaled)\n",
        "\n",
        "plt.figure(figsize=(6,4))\n",
        "plt.scatter(X_pca[:, 0], X_pca[:, 1], c=pd.factorize(y_train)[0], cmap='viridis', s=5)\n",
        "plt.title('PCA Visualization of Dataset')\n",
        "plt.xlabel('Principal Component 1')\n",
        "plt.ylabel('Principal Component 2')\n",
        "plt.show()\n"
      ],
      "metadata": {
        "colab": {
          "base_uri": "https://localhost:8080/",
          "height": 410
        },
        "id": "o6yYwGjThc8f",
        "outputId": "18445e1b-9fce-4175-ddac-58065d5bc717"
      },
      "execution_count": null,
      "outputs": [
        {
          "output_type": "display_data",
          "data": {
            "text/plain": [
              "<Figure size 600x400 with 1 Axes>"
            ],
            "image/png": "[encoded data removed]"
          },
          "metadata": {}
        }
      ]
    },
    {
      "cell_type": "markdown",
      "source": [
        "**Save the Results**"
      ],
      "metadata": {
        "id": "ug9b2djbjBq3"
      }
    },
    {
      "cell_type": "code",
      "source": [
        "import os\n",
        "\n",
        "selected_features = top_10['Feature'].tolist()\n",
        "df_selected = df[selected_features + [' Label']]\n",
        "\n",
        "# Define the directory path\n",
        "save_directory = \"/content/drive/MyDrive/AI Sentinet Project/GeneratedLabelledFlows/CleanedData\"\n",
        "\n",
        "# Create the directory if it doesn't exist\n",
        "if not os.path.exists(save_directory):\n",
        "    os.makedirs(save_directory)\n",
        "    print(f\"Directory '{save_directory}' created.\")\n",
        "\n",
        "# Define the full file path\n",
        "save_file_path = os.path.join(save_directory, \"Wednesday_top10_features.csv\")\n",
        "\n",
        "# Save the DataFrame to CSV\n",
        "df_selected.to_csv(save_file_path, index=False)\n",
        "\n",
        "print(f\"DataFrame saved to '{save_file_path}'\")"
      ],
      "metadata": {
        "colab": {
          "base_uri": "https://localhost:8080/"
        },
        "id": "NdEcvaOehlpC",
        "outputId": "348b0251-c04c-4e3d-f731-b92d679aa67f"
      },
      "execution_count": null,
      "outputs": [
        {
          "output_type": "stream",
          "name": "stdout",
          "text": [
            "DataFrame saved to '/content/drive/MyDrive/AI Sentinet Project/GeneratedLabelledFlows/CleanedData/Wednesday_top10_features.csv'\n"
          ]
        }
      ]
    },
    {
      "cell_type": "markdown",
      "source": [
        "**Week 4 :** Supervised Model Training\n"
      ],
      "metadata": {
        "id": "dGhTBHLrP7Yp"
      }
    },
    {
      "cell_type": "markdown",
      "source": [
        "**Supervised model training** means training an algorithm using input data with known output labels.\n",
        "In our project, the model learns from historical network traffic labeled as **“Normal”** or **“Attack”** so it can correctly classify new, unseen network flows during testing."
      ],
      "metadata": {
        "id": "lJhjxwSV6iHQ"
      }
    },
    {
      "cell_type": "markdown",
      "source": [
        "**1. Train Models : Random Forest, SVM, and Logistic Regression**"
      ],
      "metadata": {
        "id": "CIb3C9VFQCul"
      }
    },
    {
      "cell_type": "markdown",
      "source": [
        "**Import Libraries :**"
      ],
      "metadata": {
        "id": "a9r4EYPn7VLo"
      }
    },
    {
      "cell_type": "markdown",
      "source": [
        "\n",
        "\n",
        "*   **pandas :** for data handling and analysis.\n",
        "\n",
        "*   **train_test_split :** to divide data into training and testing parts.\n",
        "\n",
        "*   **StandardScaler :** to scale numerical values.\n",
        "*   **RandomForestClassifier, SVC, LogisticRegression :** machine learning models used for training.\n",
        "\n",
        "\n",
        "*   **accuracy_score, classification_report, confusion_matrix :** to evaluate how well models perform.\n",
        "\n"
      ],
      "metadata": {
        "id": "Nv2qpaYt7ZxB"
      }
    },
    {
      "cell_type": "code",
      "source": [
        "# Basic libraries\n",
        "import pandas as pd\n",
        "from sklearn.model_selection import train_test_split\n",
        "from sklearn.preprocessing import StandardScaler\n",
        "\n",
        "# ML models\n",
        "from sklearn.ensemble import RandomForestClassifier\n",
        "from sklearn.svm import SVC\n",
        "from sklearn.linear_model import LogisticRegression\n",
        "\n",
        "# Evaluation metrics\n",
        "from sklearn.metrics import accuracy_score, classification_report, confusion_matrix\n"
      ],
      "metadata": {
        "id": "p4JYXn_BQGAc"
      },
      "execution_count": null,
      "outputs": []
    },
    {
      "cell_type": "markdown",
      "source": [
        "**Load Your Encoded Dataset**"
      ],
      "metadata": {
        "id": "zC0Woxlc8CYL"
      }
    },
    {
      "cell_type": "markdown",
      "source": [
        "Here, we load the **encoded dataset** that has already been cleaned and preprocessed.\n",
        "The dataset contains **features** (like flow duration, packet length, bytes, etc.) and the label column, which tells us whether the traffic is *Normal* or an *Attack*."
      ],
      "metadata": {
        "id": "HMOcEd-S8FW1"
      }
    },
    {
      "cell_type": "code",
      "source": [
        "# Load encoded data\n",
        "df = pd.read_csv('/content/drive/MyDrive/AI Sentinet Project/Encoded_wednesday.csv')\n",
        "\n",
        "# Separate features (X) and labels (y)\n",
        "X = df.drop(' Label', axis=1)\n",
        "y = df[' Label']\n"
      ],
      "metadata": {
        "id": "zy8Pbn7UQRE7"
      },
      "execution_count": null,
      "outputs": []
    },
    {
      "cell_type": "markdown",
      "source": [
        "**Split Data into Train and Test**"
      ],
      "metadata": {
        "id": "aEM1ZHrq8Pni"
      }
    },
    {
      "cell_type": "markdown",
      "source": [
        "We split the data into two parts :\n",
        "\n",
        "*   **Training set (80%) —** used to teach the model the relationship between features and labels.\n",
        "*   **Testing set (20%) —** used to check how well the model performs on unseen data.\n",
        "\n"
      ],
      "metadata": {
        "id": "FCBk0PLi8XCN"
      }
    },
    {
      "cell_type": "markdown",
      "source": [
        "Using **random_state=42** ensures that the split is **reproducible**, meaning you get the same results every time you run it.\n",
        "This step helps prevent overfitting and gives a fair evaluation of the model"
      ],
      "metadata": {
        "id": "r1M_BTZx8lAt"
      }
    },
    {
      "cell_type": "code",
      "source": [
        "X_train, X_test, y_train, y_test = train_test_split(X, y, test_size=0.2, random_state=42)\n"
      ],
      "metadata": {
        "id": "-ggnA4aLQrKH"
      },
      "execution_count": null,
      "outputs": []
    },
    {
      "cell_type": "markdown",
      "source": [
        "**Scale Features**"
      ],
      "metadata": {
        "id": "9hv04Z3Y8sVy"
      }
    },
    {
      "cell_type": "markdown",
      "source": [
        "Scaling ensures that all features have similar ranges.\n",
        "Some models like **SVM** and **Logistic Regression** are sensitive to feature magnitudes, so scaling helps improve their performance and stability."
      ],
      "metadata": {
        "id": "MX94gRAc9M57"
      }
    },
    {
      "cell_type": "markdown",
      "source": [
        "We use **StandardScaler**, which converts features to have :\n",
        "\n",
        "*   Mean = 0\n",
        "*   Standard Deviation = 1\n",
        "\n"
      ],
      "metadata": {
        "id": "ey9U7nMw9fnJ"
      }
    },
    {
      "cell_type": "markdown",
      "source": [
        "This helps the model train faster and more accurately."
      ],
      "metadata": {
        "id": "g5QJoJlG9r80"
      }
    },
    {
      "cell_type": "code",
      "source": [
        "scaler = StandardScaler()\n",
        "X_train_scaled = scaler.fit_transform(X_train)\n",
        "X_test_scaled = scaler.transform(X_test)\n"
      ],
      "metadata": {
        "id": "k2bTOiAxQuXV"
      },
      "execution_count": null,
      "outputs": []
    },
    {
      "cell_type": "markdown",
      "source": [
        "**Train Random Forest Classifier**"
      ],
      "metadata": {
        "id": "rTBKDi669vOW"
      }
    },
    {
      "cell_type": "markdown",
      "source": [
        "**Random Forest** is an ensemble learning algorithm that builds multiple decision trees and combines their predictions for better accuracy and stability.\n",
        "\n",
        "*   We use **n_estimators=50** (number of trees) and **random_state=42**\n",
        "\n",
        "*   The model learns complex relationships between the input features and the output label.\n",
        "*  After training, it predicts on test data to evaluate performance.\n",
        "\n"
      ],
      "metadata": {
        "id": "cIdlUxWf91jI"
      }
    },
    {
      "cell_type": "markdown",
      "source": [
        "This model is usually strong, handles large datasets well, and doesn’t require feature scaling."
      ],
      "metadata": {
        "id": "a1xQbuIc-VWq"
      }
    },
    {
      "cell_type": "code",
      "source": [
        "# Initialize Random Forest model\n",
        "rf = RandomForestClassifier(n_estimators=50, random_state=42)\n",
        "\n",
        "# Train\n",
        "rf.fit(X_train, y_train)\n",
        "\n",
        "# Predict\n",
        "y_pred_rf = rf.predict(X_test)\n",
        "\n",
        "# Evaluate\n",
        "print(\"🌲 Random Forest Results 🌲\")\n",
        "print(\"Accuracy:\", accuracy_score(y_test, y_pred_rf))\n",
        "print(\"\\nClassification Report:\\n\", classification_report(y_test, y_pred_rf))\n",
        "print(\"\\nConfusion Matrix:\\n\", confusion_matrix(y_test, y_pred_rf))\n"
      ],
      "metadata": {
        "colab": {
          "base_uri": "https://localhost:8080/"
        },
        "id": "XvZX8SANQyd-",
        "outputId": "4e4b1905-2cc6-40d3-daa3-792f4ff47750"
      },
      "execution_count": null,
      "outputs": [
        {
          "output_type": "stream",
          "name": "stdout",
          "text": [
            "🌲 Random Forest Results 🌲\n",
            "Accuracy: 0.999341924473178\n",
            "\n",
            "Classification Report:\n",
            "               precision    recall  f1-score   support\n",
            "\n",
            "           0       1.00      1.00      1.00     87883\n",
            "           1       1.00      1.00      1.00      2107\n",
            "           2       1.00      1.00      1.00     46042\n",
            "           3       1.00      0.99      0.99      1096\n",
            "           4       0.99      1.00      1.00      1152\n",
            "           5       1.00      1.00      1.00         2\n",
            "\n",
            "    accuracy                           1.00    138282\n",
            "   macro avg       1.00      1.00      1.00    138282\n",
            "weighted avg       1.00      1.00      1.00    138282\n",
            "\n",
            "\n",
            "Confusion Matrix:\n",
            " [[87844     0    37     2     0     0]\n",
            " [    4  2100     2     1     0     0]\n",
            " [   27     2 46013     0     0     0]\n",
            " [    4     1     0  1085     6     0]\n",
            " [    2     0     1     2  1147     0]\n",
            " [    0     0     0     0     0     2]]\n"
          ]
        }
      ]
    },
    {
      "cell_type": "markdown",
      "source": [
        "**Train Support Vector Machine (SVM)**"
      ],
      "metadata": {
        "id": "SHcOqi3T-XE3"
      }
    },
    {
      "cell_type": "markdown",
      "source": [
        "\n",
        "\n",
        "*   Support Vector Machine (SVM) tries to find the best line or boundary (hyperplane) that separates classes (Normal vs Attack).\n",
        "\n",
        "*   We use the RBF kernel, which allows the model to learn even non-linear boundaries in the data.\n",
        "*   However, SVM needs scaled features to perform well since it depends on distance calculations between points.\n",
        "\n",
        "\n",
        "*   After training, we test it on unseen data and check accuracy and confusion matrix results.\n",
        "\n"
      ],
      "metadata": {
        "id": "tMVoNQbY-aly"
      }
    },
    {
      "cell_type": "code",
      "source": [
        "# Initialize SVM (LinearSVC is much faster for large datasets)\n",
        "# Take only 10,000 rows for training (adjust as needed)\n",
        "X_train_sample = X_train_scaled[:10000]\n",
        "y_train_sample = y_train[:10000]\n",
        "\n",
        "from sklearn.svm import LinearSVC\n",
        "svm = LinearSVC(max_iter=5000, random_state=42)\n",
        "svm.fit(X_train_sample, y_train_sample)\n",
        "\n",
        "y_pred_svm = svm.predict(X_test_scaled)\n",
        "\n",
        "print(\"⚙️ LinearSVC (Sampled Data) Results ⚙️\")\n",
        "print(\"Accuracy:\", accuracy_score(y_test, y_pred_svm))\n",
        "print(\"\\nClassification Report:\\n\", classification_report(y_test, y_pred_svm))\n",
        "print(\"\\nConfusion Matrix:\\n\", confusion_matrix(y_test, y_pred_svm))\n",
        "\n",
        "\n",
        "\n",
        "\n",
        "\n"
      ],
      "metadata": {
        "id": "7fDoOMknUoP_",
        "colab": {
          "base_uri": "https://localhost:8080/"
        },
        "outputId": "078c7137-4958-4225-97fa-e30424cf6a76"
      },
      "execution_count": null,
      "outputs": [
        {
          "output_type": "stream",
          "name": "stdout",
          "text": [
            "⚙️ LinearSVC (Sampled Data) Results ⚙️\n",
            "Accuracy: 0.9835987330238208\n",
            "\n",
            "Classification Report:\n",
            "               precision    recall  f1-score   support\n",
            "\n",
            "           0       0.99      0.99      0.99     87883\n",
            "           1       0.98      0.92      0.95      2107\n",
            "           2       0.97      0.99      0.98     46042\n",
            "           3       0.85      0.88      0.86      1096\n",
            "           4       0.96      0.78      0.86      1152\n",
            "           5       0.13      1.00      0.24         2\n",
            "\n",
            "    accuracy                           0.98    138282\n",
            "   macro avg       0.81      0.93      0.81    138282\n",
            "weighted avg       0.98      0.98      0.98    138282\n",
            "\n",
            "\n",
            "Confusion Matrix:\n",
            " [[86572    31  1176    75    19    10]\n",
            " [  131  1944    21     9     2     0]\n",
            " [  390     9 45642     0     0     1]\n",
            " [  117     2     0   961    16     0]\n",
            " [  172     0     1    84   893     2]\n",
            " [    0     0     0     0     0     2]]\n"
          ]
        }
      ]
    },
    {
      "cell_type": "markdown",
      "source": [
        "**Train Logistic Regression**"
      ],
      "metadata": {
        "id": "MoFIHiby-rMl"
      }
    },
    {
      "cell_type": "markdown",
      "source": [
        "\n",
        "\n",
        "*   Logistic Regression is a linear model that estimates probabilities using a **sigmoid function** to classify data.\n",
        "\n",
        "*   It’s simple, fast, and interpretable — making it a good **baseline model** for comparison.\n",
        "Scaling helps the model converge faster and perform better.\n",
        "*   After training, we test its predictions and print out evaluation metrics such as accuracy and classification report.\n",
        "\n"
      ],
      "metadata": {
        "id": "RPN3XJS3-u-J"
      }
    },
    {
      "cell_type": "code",
      "source": [
        "# Initialize Logistic Regression model\n",
        "lr = LogisticRegression(max_iter=1000, random_state=42)\n",
        "\n",
        "# Train\n",
        "lr.fit(X_train_scaled, y_train)\n",
        "\n",
        "# Predict\n",
        "y_pred_lr = lr.predict(X_test_scaled)\n",
        "\n",
        "# Evaluate\n",
        "print(\"🔹 Logistic Regression Results 🔹\")\n",
        "print(\"Accuracy:\", accuracy_score(y_test, y_pred_lr))\n",
        "print(\"\\nClassification Report:\\n\", classification_report(y_test, y_pred_lr))\n",
        "print(\"\\nConfusion Matrix:\\n\", confusion_matrix(y_test, y_pred_lr))\n"
      ],
      "metadata": {
        "id": "UBymeN5gUtvU",
        "colab": {
          "base_uri": "https://localhost:8080/"
        },
        "outputId": "055120c9-33ac-4466-d65c-4fa58fe23eaf"
      },
      "execution_count": null,
      "outputs": [
        {
          "output_type": "stream",
          "name": "stdout",
          "text": [
            "🔹 Logistic Regression Results 🔹\n",
            "Accuracy: 0.9897745187370736\n",
            "\n",
            "Classification Report:\n",
            "               precision    recall  f1-score   support\n",
            "\n",
            "           0       1.00      0.99      0.99     87883\n",
            "           1       0.99      0.93      0.96      2107\n",
            "           2       0.98      1.00      0.99     46042\n",
            "           3       0.95      0.96      0.95      1096\n",
            "           4       0.96      0.93      0.94      1152\n",
            "           5       1.00      1.00      1.00         2\n",
            "\n",
            "    accuracy                           0.99    138282\n",
            "   macro avg       0.98      0.97      0.97    138282\n",
            "weighted avg       0.99      0.99      0.99    138282\n",
            "\n",
            "\n",
            "Confusion Matrix:\n",
            " [[86806    24   984    36    33     0]\n",
            " [  129  1957    19     1     1     0]\n",
            " [   61     1 45980     0     0     0]\n",
            " [   32     1     1  1052    10     0]\n",
            " [   58     0     1    22  1071     0]\n",
            " [    0     0     0     0     0     2]]\n"
          ]
        }
      ]
    },
    {
      "cell_type": "markdown",
      "source": [
        "**Compare Model Performance**"
      ],
      "metadata": {
        "id": "h3A0D5l2_JvY"
      }
    },
    {
      "cell_type": "markdown",
      "source": [
        "We calculate and compare the accuracy of all three models (**Random Forest, SVM, Logistic Regression**). This helps us see :\n",
        "\n",
        "*   Which model gives the **highest accuracy**.\n",
        "*   How each performs in predicting attack and normal traffic.\n",
        "\n"
      ],
      "metadata": {
        "id": "6tA5469j_LH4"
      }
    },
    {
      "cell_type": "markdown",
      "source": [
        "**Accuracy** gives a quick measure of how many predictions were correct overall.\n",
        "Whichever model achieves the best accuracy and balanced precision/recall is considered the best performer."
      ],
      "metadata": {
        "id": "HRQJeLhM_gOs"
      }
    },
    {
      "cell_type": "code",
      "source": [
        "# Store accuracies\n",
        "rf_acc = accuracy_score(y_test, y_pred_rf)\n",
        "svm_acc = accuracy_score(y_test, y_pred_svm)\n",
        "lr_acc = accuracy_score(y_test, y_pred_lr)\n",
        "\n",
        "# Display results\n",
        "print(\"\\n📈 Model Accuracy Comparison:\")\n",
        "print(f\"Random Forest: {rf_acc:.4f}\")\n",
        "print(f\"SVM: {svm_acc:.4f}\")\n",
        "print(f\"Logistic Regression: {lr_acc:.4f}\")"
      ],
      "metadata": {
        "id": "ix5o2UelZBqA",
        "colab": {
          "base_uri": "https://localhost:8080/"
        },
        "outputId": "6ea90ef1-5e24-4554-9f76-0284227a743c"
      },
      "execution_count": null,
      "outputs": [
        {
          "output_type": "stream",
          "name": "stdout",
          "text": [
            "\n",
            "📈 Model Accuracy Comparison:\n",
            "Random Forest: 0.9993\n",
            "SVM: 0.9836\n",
            "Logistic Regression: 0.9898\n"
          ]
        }
      ]
    },
    {
      "cell_type": "markdown",
      "source": [
        "**Visualizing Model Performance**"
      ],
      "metadata": {
        "id": "vbfqFQxo_rtT"
      }
    },
    {
      "cell_type": "code",
      "source": [
        "# Visualize Model Performance\n",
        "\n",
        "import matplotlib.pyplot as plt\n",
        "\n",
        "# Accuracy scores already calculated earlier\n",
        "rf_acc = accuracy_score(y_test, y_pred_rf)\n",
        "svm_acc = accuracy_score(y_test, y_pred_svm)\n",
        "lr_acc = accuracy_score(y_test, y_pred_lr)\n",
        "\n",
        "# Create lists for plotting\n",
        "models = ['Random Forest', 'SVM', 'Logistic Regression']\n",
        "accuracies = [rf_acc, svm_acc, lr_acc]\n",
        "\n",
        "# Plot the bar chart\n",
        "plt.figure(figsize=(8, 5))\n",
        "bars = plt.bar(models, accuracies, color=['green', 'orange', 'blue'])\n",
        "\n",
        "# Add labels and title\n",
        "plt.title('📊 Model Accuracy Comparison', fontsize=14, fontweight='bold')\n",
        "plt.xlabel('Model', fontsize=12)\n",
        "plt.ylabel('Accuracy Score', fontsize=12)\n",
        "plt.ylim(0, 1)\n",
        "\n",
        "# Annotate accuracy values on top of each bar\n",
        "for bar, acc in zip(bars, accuracies):\n",
        "    plt.text(bar.get_x() + bar.get_width()/2, bar.get_height() - 0.05,\n",
        "             f'{acc:.4f}', ha='center', va='bottom', color='white', fontsize=11, fontweight='bold')\n",
        "\n",
        "plt.grid(axis='y', linestyle='--', alpha=0.6)\n",
        "plt.show()\n"
      ],
      "metadata": {
        "colab": {
          "base_uri": "https://localhost:8080/",
          "height": 520
        },
        "id": "kAnb1uPuxJkn",
        "outputId": "06ae8965-3037-4b03-a0b0-8177768926c8"
      },
      "execution_count": null,
      "outputs": [
        {
          "output_type": "stream",
          "name": "stderr",
          "text": [
            "/usr/local/lib/python3.12/dist-packages/IPython/core/pylabtools.py:151: UserWarning: Glyph 128202 (\\N{BAR CHART}) missing from font(s) DejaVu Sans.\n",
            "  fig.canvas.print_figure(bytes_io, **kw)\n"
          ]
        },
        {
          "output_type": "display_data",
          "data": {
            "text/plain": [
              "<Figure size 800x500 with 1 Axes>"
            ],
            "image/png": "[encoded data removed]"
          },
          "metadata": {}
        }
      ]
    },
    {
      "cell_type": "markdown",
      "source": [
        "**Save Trained Models**"
      ],
      "metadata": {
        "id": "Kc0Qu-co_oc6"
      }
    },
    {
      "cell_type": "code",
      "source": [
        "import joblib\n",
        "\n",
        "joblib.dump(rf, '/content/drive/MyDrive/AI Sentinet Project/rf_model.pkl')\n",
        "joblib.dump(svm, '/content/drive/MyDrive/AI Sentinet Project/svm_model.pkl')\n",
        "joblib.dump(lr, '/content/drive/MyDrive/AI Sentinet Project/lr_model.pkl')\n",
        "\n",
        "print(\"✅ Models saved successfully!\")\n"
      ],
      "metadata": {
        "id": "8peCLYZTZMsE",
        "colab": {
          "base_uri": "https://localhost:8080/"
        },
        "outputId": "60a49863-39cf-4aba-fce5-69cefda23027"
      },
      "execution_count": null,
      "outputs": [
        {
          "output_type": "stream",
          "name": "stdout",
          "text": [
            "✅ Models saved successfully!\n"
          ]
        }
      ]
    },
    {
      "cell_type": "markdown",
      "source": [
        "**2. Evaluate Model Performance — Accuracy, Precision, Recall, and F1-Score**"
      ],
      "metadata": {
        "id": "rDdkU_q1xoA3"
      }
    },
    {
      "cell_type": "markdown",
      "source": [
        "\n",
        "\n",
        "*   After training our models, the next important step is to **evaluate their performance.**\n",
        "\n",
        "*   This helps us understand how well each model can classify network traffic into Normal and Attack categories.\n",
        "*   We use standard evaluation metrics like **Accuracy, Precision, Recall, and F1-Score to measure performance.**\n",
        "\n",
        "\n"
      ],
      "metadata": {
        "id": "fz-5r6C1RgDA"
      }
    },
    {
      "cell_type": "markdown",
      "source": [
        "**Import Required Metrics :**"
      ],
      "metadata": {
        "id": "G31PdiowR5N_"
      }
    },
    {
      "cell_type": "markdown",
      "source": [
        "\n",
        "\n",
        "*   **accuracy_score :** Measures the percentage of correct predictions.\n",
        "\n",
        "*   **precision_score :** Checks how many of the predicted positive cases were actually positive.\n",
        "\n",
        "*   **recall_score :** Measures how many of the actual positive cases were correctly detected.\n",
        "*   **f1_score :** Balances precision and recall into a single value.\n",
        "\n",
        "\n",
        "*   **classification_report :** Gives a detailed breakdown for each class (Normal vs Attack).\n"
      ],
      "metadata": {
        "id": "xVWMY1HoSXio"
      }
    },
    {
      "cell_type": "code",
      "source": [
        "from sklearn.metrics import accuracy_score, precision_score, recall_score, f1_score, classification_report\n"
      ],
      "metadata": {
        "id": "lDLg3jA_xqn-"
      },
      "execution_count": null,
      "outputs": []
    },
    {
      "cell_type": "markdown",
      "source": [
        "**Evaluate Each Model Separately**"
      ],
      "metadata": {
        "id": "lRuj98I8S9P8"
      }
    },
    {
      "cell_type": "code",
      "source": [
        "# Random Forest\n",
        "print(\"🌲 RANDOM FOREST PERFORMANCE 🌲\")\n",
        "print(\"Accuracy :\", accuracy_score(y_test, y_pred_rf))\n",
        "print(\"Precision:\", precision_score(y_test, y_pred_rf, average='weighted'))\n",
        "print(\"Recall   :\", recall_score(y_test, y_pred_rf, average='weighted'))\n",
        "print(\"F1-Score :\", f1_score(y_test, y_pred_rf, average='weighted'))\n",
        "print(\"\\nDetailed Report:\\n\", classification_report(y_test, y_pred_rf))\n"
      ],
      "metadata": {
        "colab": {
          "base_uri": "https://localhost:8080/"
        },
        "id": "LluIAI_Bxt2D",
        "outputId": "b22681a6-3d93-4e7f-904b-2e88eb2522ed"
      },
      "execution_count": null,
      "outputs": [
        {
          "output_type": "stream",
          "name": "stdout",
          "text": [
            "🌲 RANDOM FOREST PERFORMANCE 🌲\n",
            "Accuracy : 0.999341924473178\n",
            "Precision: 0.9993417848086358\n",
            "Recall   : 0.999341924473178\n",
            "F1-Score : 0.9993417752560435\n",
            "\n",
            "Detailed Report:\n",
            "               precision    recall  f1-score   support\n",
            "\n",
            "           0       1.00      1.00      1.00     87883\n",
            "           1       1.00      1.00      1.00      2107\n",
            "           2       1.00      1.00      1.00     46042\n",
            "           3       1.00      0.99      0.99      1096\n",
            "           4       0.99      1.00      1.00      1152\n",
            "           5       1.00      1.00      1.00         2\n",
            "\n",
            "    accuracy                           1.00    138282\n",
            "   macro avg       1.00      1.00      1.00    138282\n",
            "weighted avg       1.00      1.00      1.00    138282\n",
            "\n"
          ]
        }
      ]
    },
    {
      "cell_type": "code",
      "source": [
        "# Support Vector Machine\n",
        "print(\"⚙️ SVM PERFORMANCE ⚙️\")\n",
        "print(\"Accuracy :\", accuracy_score(y_test, y_pred_svm))\n",
        "print(\"Precision:\", precision_score(y_test, y_pred_svm, average='weighted'))\n",
        "print(\"Recall   :\", recall_score(y_test, y_pred_svm, average='weighted'))\n",
        "print(\"F1-Score :\", f1_score(y_test, y_pred_svm, average='weighted'))\n",
        "print(\"\\nDetailed Report:\\n\", classification_report(y_test, y_pred_svm))\n"
      ],
      "metadata": {
        "colab": {
          "base_uri": "https://localhost:8080/"
        },
        "id": "qIEPqy4nxzHs",
        "outputId": "21d04b13-4bef-4e5b-ff68-a8dde8dbc239"
      },
      "execution_count": null,
      "outputs": [
        {
          "output_type": "stream",
          "name": "stdout",
          "text": [
            "⚙️ SVM PERFORMANCE ⚙️\n",
            "Accuracy : 0.9835987330238208\n",
            "Precision: 0.9837473563914059\n",
            "Recall   : 0.9835987330238208\n",
            "F1-Score : 0.9835426127566027\n",
            "\n",
            "Detailed Report:\n",
            "               precision    recall  f1-score   support\n",
            "\n",
            "           0       0.99      0.99      0.99     87883\n",
            "           1       0.98      0.92      0.95      2107\n",
            "           2       0.97      0.99      0.98     46042\n",
            "           3       0.85      0.88      0.86      1096\n",
            "           4       0.96      0.78      0.86      1152\n",
            "           5       0.13      1.00      0.24         2\n",
            "\n",
            "    accuracy                           0.98    138282\n",
            "   macro avg       0.81      0.93      0.81    138282\n",
            "weighted avg       0.98      0.98      0.98    138282\n",
            "\n"
          ]
        }
      ]
    },
    {
      "cell_type": "code",
      "source": [
        "# Logistic Regression\n",
        "print(\"🔹 LOGISTIC REGRESSION PERFORMANCE 🔹\")\n",
        "print(\"Accuracy :\", accuracy_score(y_test, y_pred_lr))\n",
        "print(\"Precision:\", precision_score(y_test, y_pred_lr, average='weighted'))\n",
        "print(\"Recall   :\", recall_score(y_test, y_pred_lr, average='weighted'))\n",
        "print(\"F1-Score :\", f1_score(y_test, y_pred_lr, average='weighted'))\n",
        "print(\"\\nDetailed Report:\\n\", classification_report(y_test, y_pred_lr))\n"
      ],
      "metadata": {
        "colab": {
          "base_uri": "https://localhost:8080/"
        },
        "id": "uBKreC1Yx4-9",
        "outputId": "d2aa0c10-225f-4c57-9605-72f91dec4481"
      },
      "execution_count": null,
      "outputs": [
        {
          "output_type": "stream",
          "name": "stdout",
          "text": [
            "🔹 LOGISTIC REGRESSION PERFORMANCE 🔹\n",
            "Accuracy : 0.9897745187370736\n",
            "Precision: 0.9898852976704313\n",
            "Recall   : 0.9897745187370736\n",
            "F1-Score : 0.9897671378507669\n",
            "\n",
            "Detailed Report:\n",
            "               precision    recall  f1-score   support\n",
            "\n",
            "           0       1.00      0.99      0.99     87883\n",
            "           1       0.99      0.93      0.96      2107\n",
            "           2       0.98      1.00      0.99     46042\n",
            "           3       0.95      0.96      0.95      1096\n",
            "           4       0.96      0.93      0.94      1152\n",
            "           5       1.00      1.00      1.00         2\n",
            "\n",
            "    accuracy                           0.99    138282\n",
            "   macro avg       0.98      0.97      0.97    138282\n",
            "weighted avg       0.99      0.99      0.99    138282\n",
            "\n"
          ]
        }
      ]
    },
    {
      "cell_type": "markdown",
      "source": [
        "**Compare All Models Side by Side**"
      ],
      "metadata": {
        "id": "DfgPgIKQTL0O"
      }
    },
    {
      "cell_type": "markdown",
      "source": [
        "**Explanation :**"
      ],
      "metadata": {
        "id": "qZBeuUB_TTDL"
      }
    },
    {
      "cell_type": "markdown",
      "source": [
        "\n",
        "\n",
        "*   This table (DataFrame) shows each model’s Accuracy, Precision, Recall, and F1-Score.\n",
        "\n",
        "*   It allows for easy comparison — we can instantly see which model scores the highest on each metric.\n",
        "*   A model with consistently high values across all metrics is considered the most balanced and reliable.\n",
        "\n"
      ],
      "metadata": {
        "id": "8B4QFaGQTbs_"
      }
    },
    {
      "cell_type": "code",
      "source": [
        "# Calculate metrics for all models\n",
        "metrics = {\n",
        "    \"Model\": [\"Random Forest\", \"SVM\", \"Logistic Regression\"],\n",
        "    \"Accuracy\": [\n",
        "        accuracy_score(y_test, y_pred_rf),\n",
        "        accuracy_score(y_test, y_pred_svm),\n",
        "        accuracy_score(y_test, y_pred_lr)\n",
        "    ],\n",
        "    \"Precision\": [\n",
        "        precision_score(y_test, y_pred_rf, average='weighted'),\n",
        "        precision_score(y_test, y_pred_svm, average='weighted'),\n",
        "        precision_score(y_test, y_pred_lr, average='weighted')\n",
        "    ],\n",
        "    \"Recall\": [\n",
        "        recall_score(y_test, y_pred_rf, average='weighted'),\n",
        "        recall_score(y_test, y_pred_svm, average='weighted'),\n",
        "        recall_score(y_test, y_pred_lr, average='weighted')\n",
        "    ],\n",
        "    \"F1-Score\": [\n",
        "        f1_score(y_test, y_pred_rf, average='weighted'),\n",
        "        f1_score(y_test, y_pred_svm, average='weighted'),\n",
        "        f1_score(y_test, y_pred_lr, average='weighted')\n",
        "    ]\n",
        "}\n",
        "\n",
        "# Display as a DataFrame\n",
        "import pandas as pd\n",
        "results_df = pd.DataFrame(metrics)\n",
        "print(\"📊 Model Performance Comparison:\")\n",
        "print(results_df)\n"
      ],
      "metadata": {
        "colab": {
          "base_uri": "https://localhost:8080/"
        },
        "id": "WT_0cjusx93H",
        "outputId": "e157cca0-1781-44fc-e9a2-4faf5a20d6fd"
      },
      "execution_count": null,
      "outputs": [
        {
          "output_type": "stream",
          "name": "stdout",
          "text": [
            "📊 Model Performance Comparison:\n",
            "                 Model  Accuracy  Precision    Recall  F1-Score\n",
            "0        Random Forest  0.999342   0.999342  0.999342  0.999342\n",
            "1                  SVM  0.983599   0.983747  0.983599  0.983543\n",
            "2  Logistic Regression  0.989775   0.989885  0.989775  0.989767\n"
          ]
        }
      ]
    },
    {
      "cell_type": "markdown",
      "source": [
        "**Visualize Comparison :**"
      ],
      "metadata": {
        "id": "zLxPfV82T5hS"
      }
    },
    {
      "cell_type": "markdown",
      "source": [
        "\n",
        "\n",
        "*   The chart visually represents how each model performs.\n",
        "\n",
        "*   Models with taller bars (closer to 1.0) are performing better.\n",
        "*   This visualization makes the evaluation results easy to interpret at a glance.\n",
        "\n"
      ],
      "metadata": {
        "id": "F0bzdextT_sc"
      }
    },
    {
      "cell_type": "code",
      "source": [
        "import matplotlib.pyplot as plt\n",
        "\n",
        "# Plot metrics side by side\n",
        "results_df.plot(x='Model', kind='bar', figsize=(9,6), title='Model Performance Comparison (All Metrics)')\n",
        "plt.xticks(rotation=0)\n",
        "plt.ylabel('Score')\n",
        "plt.ylim(0, 1)\n",
        "plt.grid(axis='y', linestyle='--', alpha=0.7)\n",
        "plt.legend(title='Metrics', loc='lower right')\n",
        "plt.show()\n"
      ],
      "metadata": {
        "colab": {
          "base_uri": "https://localhost:8080/",
          "height": 484
        },
        "id": "LS9d1oDZyEIq",
        "outputId": "21e3bf1e-bbc8-4c5f-94a2-7c89cb912339"
      },
      "execution_count": null,
      "outputs": [
        {
          "output_type": "display_data",
          "data": {
            "text/plain": [
              "<Figure size 900x600 with 1 Axes>"
            ],
            "image/png": "[encoded data removed]"
          },
          "metadata": {}
        }
      ]
    },
    {
      "cell_type": "markdown",
      "source": [
        "**Save the Model performance results**"
      ],
      "metadata": {
        "id": "ifWrukZ7UdH1"
      }
    },
    {
      "cell_type": "code",
      "source": [
        "results_df.to_csv('/content/drive/MyDrive/AI Sentinet Project/model_performance_results.csv', index=False)\n",
        "print(\"✅ Model performance results saved successfully!\")\n"
      ],
      "metadata": {
        "colab": {
          "base_uri": "https://localhost:8080/"
        },
        "id": "ioU7UeK94ukA",
        "outputId": "35b1711d-d960-42b3-dd67-29f5dd7511f7"
      },
      "execution_count": null,
      "outputs": [
        {
          "output_type": "stream",
          "name": "stdout",
          "text": [
            "✅ Model performance results saved successfully!\n"
          ]
        }
      ]
    }
  ]
}